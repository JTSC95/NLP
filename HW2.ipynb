{
 "cells": [
  {
   "cell_type": "code",
   "execution_count": 1,
   "metadata": {
    "collapsed": true
   },
   "outputs": [],
   "source": [
    "import nltk\n",
    "import pandas as pd\n",
    "from nltk.collocations import *\n",
    "bigram_measures = nltk.collocations.BigramAssocMeasures()\n",
    "trigram_measures = nltk.collocations.TrigramAssocMeasures()"
   ]
  },
  {
   "cell_type": "code",
   "execution_count": 31,
   "metadata": {
    "collapsed": false
   },
   "outputs": [],
   "source": [
    "a=[]\n",
    "with open('court-V-N.csv','r') as f:\n",
    " for line in f:\n",
    "    line=line.replace(',','')\n",
    "    line=line.replace('\\n','')\n",
    "    line=line.lower()\n",
    "    line=line.split()\n",
    "    a.append(line)\n",
    "    \n",
    "        \n",
    "        "
   ]
  },
  {
   "cell_type": "code",
   "execution_count": 32,
   "metadata": {
    "collapsed": false
   },
   "outputs": [],
   "source": [
    "finder  = BigramCollocationFinder.from_documents(a)\n"
   ]
  },
  {
   "cell_type": "code",
   "execution_count": 33,
   "metadata": {
    "collapsed": false
   },
   "outputs": [
    {
     "data": {
      "text/plain": [
       "[('арбитраж', 'встретиться'),\n",
       " ('армия', 'восстановиться'),\n",
       " ('ассоциироватьсь', 'большой'),\n",
       " ('аэропорт', 'расторжение'),\n",
       " ('балтика', 'нарушить'),\n",
       " ('банковский', 'комиссия'),\n",
       " ('безоговорочно', 'уступить'),\n",
       " ('бессмысленность', 'мероприятие'),\n",
       " ('большой', 'политика'),\n",
       " ('бригадир', 'виктор')]"
      ]
     },
     "execution_count": 33,
     "metadata": {},
     "output_type": "execute_result"
    }
   ],
   "source": [
    "finder.nbest(bigram_measures.pmi, 10)\n"
   ]
  },
  {
   "cell_type": "markdown",
   "metadata": {},
   "source": [
    "Поставим фильтр, чтобы видеть наиболее частотные, например 10:"
   ]
  },
  {
   "cell_type": "code",
   "execution_count": 51,
   "metadata": {
    "collapsed": false
   },
   "outputs": [],
   "source": [
    "finder.apply_freq_filter(10)\n",
    "finder.nbest(bigram_measures.pmi, 10)\n",
    "pmi = finder.nbest(bigram_measures.pmi, 10)"
   ]
  },
  {
   "cell_type": "markdown",
   "metadata": {},
   "source": [
    "Теперь получили более вероятную выборку. А если еще больше?"
   ]
  },
  {
   "cell_type": "code",
   "execution_count": 52,
   "metadata": {
    "collapsed": false
   },
   "outputs": [
    {
     "data": {
      "text/plain": [
       "[('принять', 'решение'),\n",
       " ('удовлетворить', 'иск'),\n",
       " ('суд', 'рассмотреть'),\n",
       " ('суд', 'принять'),\n",
       " ('суд', 'отказать'),\n",
       " ('суд', 'отклонить'),\n",
       " ('суд', 'признать'),\n",
       " ('суд', 'удовлетворить'),\n",
       " ('суд', 'вынести'),\n",
       " ('суд', 'приговорить')]"
      ]
     },
     "execution_count": 52,
     "metadata": {},
     "output_type": "execute_result"
    }
   ],
   "source": [
    "finder.apply_freq_filter(20)\n",
    "finder.nbest(bigram_measures.pmi, 10)"
   ]
  },
  {
   "cell_type": "markdown",
   "metadata": {},
   "source": [
    "Отлично! Данные документа не содержат стоп-слов, однако много коллокаций со словом суд. Посмотрим на коллокации без него."
   ]
  },
  {
   "cell_type": "code",
   "execution_count": 53,
   "metadata": {
    "collapsed": false
   },
   "outputs": [],
   "source": [
    "finder.apply_word_filter(lambda w: w in ('суд'))"
   ]
  },
  {
   "cell_type": "code",
   "execution_count": 54,
   "metadata": {
    "collapsed": false
   },
   "outputs": [
    {
     "data": {
      "text/plain": [
       "[('принять', 'решение'), ('удовлетворить', 'иск')]"
      ]
     },
     "execution_count": 54,
     "metadata": {},
     "output_type": "execute_result"
    }
   ],
   "source": [
    "finder.nbest(bigram_measures.pmi,10)"
   ]
  },
  {
   "cell_type": "markdown",
   "metadata": {},
   "source": [
    "В итоге получаем совсем мало, толь 2 коллокации. Наиболее привлекательной мне всё же видится выборка с частотностью 10. Рассмотрим по такому же алгоритму коллокации по другой метрике, например, Log-Likelihood."
   ]
  },
  {
   "cell_type": "code",
   "execution_count": 55,
   "metadata": {
    "collapsed": false
   },
   "outputs": [],
   "source": [
    "finder  = BigramCollocationFinder.from_documents(a)\n",
    "finder.apply_freq_filter(10)\n",
    "l = finder.nbest(bigram_measures.likelihood_ratio, 10)"
   ]
  },
  {
   "cell_type": "markdown",
   "metadata": {},
   "source": [
    "Отлично! Как мы видим, выборки практически совпадают. Сравним теперь с золотым стандартом и сделаем выводы."
   ]
  },
  {
   "cell_type": "code",
   "execution_count": 56,
   "metadata": {
    "collapsed": false
   },
   "outputs": [],
   "source": [
    "golden_standart = [\n",
    "    ('принять', 'решение'),\n",
    "    ('вынести', 'приговор'), \n",
    "    ('удовлетворить', 'иск'),\n",
    "    ('возбудить', 'дело'), \n",
    "    ('проведение', 'следствие'),\n",
    "    ('наложить', 'арест'),\n",
    "    ('провести', 'разбирательство'), \n",
    "    ('выдать', 'санкция'),\n",
    "    ('продлить', 'срок'),\n",
    "    ('удовлетворить', 'ходатайство')\n",
    "]"
   ]
  },
  {
   "cell_type": "code",
   "execution_count": 57,
   "metadata": {
    "collapsed": false
   },
   "outputs": [
    {
     "name": "stdout",
     "output_type": "stream",
     "text": [
      "[(('принять', 'решение'), 0), (('вынести', 'приговор'), 1), (('удовлетворить', 'иск'), 2), (('возбудить', 'дело'), 3), (('проведение', 'следствие'), 4), (('наложить', 'арест'), 5), (('провести', 'разбирательство'), 6), (('выдать', 'санкция'), 7), (('продлить', 'срок'), 8), (('удовлетворить', 'ходатайство'), 9)]\n"
     ]
    }
   ],
   "source": [
    "from nltk.metrics.spearman import *\n",
    "print(list(ranks_from_sequence(golden_standart)))"
   ]
  },
  {
   "cell_type": "code",
   "execution_count": 58,
   "metadata": {
    "collapsed": false
   },
   "outputs": [
    {
     "data": {
      "text/plain": [
       "[('принять', 'решение'),\n",
       " ('вынести', 'приговор'),\n",
       " ('удовлетворить', 'иск'),\n",
       " ('возбудить', 'дело'),\n",
       " ('проведение', 'следствие'),\n",
       " ('наложить', 'арест'),\n",
       " ('провести', 'разбирательство'),\n",
       " ('выдать', 'санкция'),\n",
       " ('продлить', 'срок'),\n",
       " ('удовлетворить', 'ходатайство')]"
      ]
     },
     "execution_count": 58,
     "metadata": {},
     "output_type": "execute_result"
    }
   ],
   "source": [
    "golden_standart\n"
   ]
  },
  {
   "cell_type": "code",
   "execution_count": 59,
   "metadata": {
    "collapsed": false
   },
   "outputs": [
    {
     "name": "stdout",
     "output_type": "stream",
     "text": [
      "[(('суд', 'признать'), 0), (('выдать', 'санкция'), 1), (('суд', 'удовлетворить'), 2), (('удовлетворить', 'иск'), 3), (('удовлетворить', 'ходатайство'), 4), (('принять', 'решение'), 5), (('санкция', 'арест'), 6), (('наложить', 'арест'), 7), (('суд', 'вынести'), 8), (('суд', 'принять'), 9)]\n"
     ]
    }
   ],
   "source": [
    "from nltk.metrics.spearman import *\n",
    "print(list(ranks_from_sequence(l)))"
   ]
  },
  {
   "cell_type": "code",
   "execution_count": 60,
   "metadata": {
    "collapsed": false
   },
   "outputs": [
    {
     "name": "stdout",
     "output_type": "stream",
     "text": [
      "-1.9\n"
     ]
    }
   ],
   "source": [
    "print('%0.1f' % spearman_correlation(ranks_from_sequence(reversed(golden_standart)), ranks_from_sequence(l)))"
   ]
  },
  {
   "cell_type": "code",
   "execution_count": 61,
   "metadata": {
    "collapsed": false
   },
   "outputs": [
    {
     "name": "stdout",
     "output_type": "stream",
     "text": [
      "1.0\n"
     ]
    }
   ],
   "source": [
    "print('%0.1f' % spearman_correlation(ranks_from_sequence(golden_standart), ranks_from_sequence(golden_standart)))"
   ]
  },
  {
   "cell_type": "code",
   "execution_count": 62,
   "metadata": {
    "collapsed": false
   },
   "outputs": [
    {
     "name": "stdout",
     "output_type": "stream",
     "text": [
      "-3.5\n"
     ]
    }
   ],
   "source": [
    "print('%0.1f' % spearman_correlation(ranks_from_sequence(golden_standart), ranks_from_sequence(l)))"
   ]
  },
  {
   "cell_type": "markdown",
   "metadata": {},
   "source": [
    "Теперь посмотрим корреляцию золотого стандарта с pmi:"
   ]
  },
  {
   "cell_type": "code",
   "execution_count": 63,
   "metadata": {
    "collapsed": false
   },
   "outputs": [
    {
     "name": "stdout",
     "output_type": "stream",
     "text": [
      "-6.1\n"
     ]
    }
   ],
   "source": [
    "print('%0.1f' % spearman_correlation(ranks_from_sequence(golden_standart), ranks_from_sequence(pmi)))"
   ]
  },
  {
   "cell_type": "code",
   "execution_count": 64,
   "metadata": {
    "collapsed": false
   },
   "outputs": [
    {
     "name": "stdout",
     "output_type": "stream",
     "text": [
      "-0.9\n"
     ]
    }
   ],
   "source": [
    "print('%0.1f' % spearman_correlation(ranks_from_sequence(reversed(golden_standart)), ranks_from_sequence(pmi)))"
   ]
  },
  {
   "cell_type": "markdown",
   "metadata": {},
   "source": [
    "Таким образом наиболее качественной, является выборка с частотностью 10 pmi, которая коррелирует с золотым стандартом в обратном порядке с коэффициентом -0.9"
   ]
  }
 ],
 "metadata": {
  "kernelspec": {
   "display_name": "Python 3",
   "language": "python",
   "name": "python3"
  },
  "language_info": {
   "codemirror_mode": {
    "name": "ipython",
    "version": 3
   },
   "file_extension": ".py",
   "mimetype": "text/x-python",
   "name": "python",
   "nbconvert_exporter": "python",
   "pygments_lexer": "ipython3",
   "version": "3.6.0"
  }
 },
 "nbformat": 4,
 "nbformat_minor": 2
}
