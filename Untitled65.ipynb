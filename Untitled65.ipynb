{
 "cells": [
  {
   "cell_type": "code",
   "execution_count": 1,
   "metadata": {
    "collapsed": true
   },
   "outputs": [],
   "source": [
    "from nltk.corpus import wordnet"
   ]
  },
  {
   "cell_type": "code",
   "execution_count": 2,
   "metadata": {
    "collapsed": false
   },
   "outputs": [
    {
     "data": {
      "text/plain": [
       "[Synset('plant.n.01'),\n",
       " Synset('plant.n.02'),\n",
       " Synset('plant.n.03'),\n",
       " Synset('plant.n.04'),\n",
       " Synset('plant.v.01'),\n",
       " Synset('implant.v.01'),\n",
       " Synset('establish.v.02'),\n",
       " Synset('plant.v.04'),\n",
       " Synset('plant.v.05'),\n",
       " Synset('plant.v.06')]"
      ]
     },
     "execution_count": 2,
     "metadata": {},
     "output_type": "execute_result"
    }
   ],
   "source": [
    "wordnet.synsets('plant')"
   ]
  },
  {
   "cell_type": "code",
   "execution_count": 4,
   "metadata": {
    "collapsed": false
   },
   "outputs": [
    {
     "name": "stdout",
     "output_type": "stream",
     "text": [
      "buildings for carrying on industrial labor\n",
      "(botany) a living organism lacking the power of locomotion\n"
     ]
    }
   ],
   "source": [
    "def1 = wordnet.synset('plant.n.01')\n",
    "def2 = wordnet.synset('plant.n.02')\n",
    "for s in def1, def2:\n",
    "    print(s.definition())"
   ]
  },
  {
   "cell_type": "code",
   "execution_count": 7,
   "metadata": {
    "collapsed": false
   },
   "outputs": [
    {
     "name": "stdout",
     "output_type": "stream",
     "text": [
      "(botany) a living organism lacking the power of locomotion\n",
      "an actor situated in the audience whose acting is rehearsed but seems spontaneous to the audience\n"
     ]
    }
   ],
   "source": [
    "from nltk.wsd import lesk\n",
    "building = 'She was working in that plant for ages'\n",
    "live = 'The reason plant is green is the sun'\n",
    "for s in sent1, sent2:\n",
    "    print(lesk(s.split(), 'plant', 'n').definition())"
   ]
  },
  {
   "cell_type": "code",
   "execution_count": 8,
   "metadata": {
    "collapsed": false
   },
   "outputs": [
    {
     "name": "stdout",
     "output_type": "stream",
     "text": [
      "[Synset('building_complex.n.01')]\n",
      "[Synset('organism.n.01')]\n"
     ]
    }
   ],
   "source": [
    "for s in def1, def2:\n",
    "    print(s.hypernyms())"
   ]
  },
  {
   "cell_type": "code",
   "execution_count": 9,
   "metadata": {
    "collapsed": false
   },
   "outputs": [
    {
     "name": "stdout",
     "output_type": "stream",
     "text": [
      "0.06666666666666667buildings for carrying on industrial laborthe people or companies engaged in a particular kind of commercial enterprise\n",
      "0.0625buildings for carrying on industrial laborthe organized action of making of goods and services for sale\n",
      "0.07142857142857142buildings for carrying on industrial laborpersevering determination to perform a task\n",
      "minimal path: 0.07142857142857142  buildings for carrying on industrial labor vs. the organized action of making of goods and services for sale\n"
     ]
    }
   ],
   "source": [
    "for cur in wordnet.synsets('industry'):\n",
    "    print(str(def1.path_similarity(cur))+ def1.definition()  + cur.definition())\n",
    "    \n",
    "print('minimal path: '+str(def1.path_similarity(wordnet.synset('diligence.n.02')))+'  '+def1.definition()+' vs. '+wordnet.synset('industry.n.02').definition())"
   ]
  },
  {
   "cell_type": "code",
   "execution_count": 10,
   "metadata": {
    "collapsed": false
   },
   "outputs": [
    {
     "name": "stdout",
     "output_type": "stream",
     "text": [
      "0.125(botany) a living organism lacking the power of locomotionthe main organ of photosynthesis and transpiration in higher plants\n",
      "0.08333333333333333(botany) a living organism lacking the power of locomotiona sheet of any written or printed material (especially in a manuscript or book)\n",
      "0.125(botany) a living organism lacking the power of locomotionhinged or detachable flat section (as of a table or door)\n",
      "None(botany) a living organism lacking the power of locomotionlook through a book or other written material\n",
      "None(botany) a living organism lacking the power of locomotionturn over pages\n",
      "None(botany) a living organism lacking the power of locomotionproduce leaves, of plants\n",
      "minimal path: 0.07692307692307693  (botany) a living organism lacking the power of locomotion vs. the organized action of making of goods and services for sale\n"
     ]
    }
   ],
   "source": [
    "for cur in wordnet.synsets('leaf'):\n",
    "    print(str(def2.path_similarity(cur))+ def2.definition()  + cur.definition())\n",
    "    \n",
    "print('minimal path: '+str(def2.path_similarity(wordnet.synset('diligence.n.02')))+'  '+def2.definition()+' vs. '+wordnet.synset('industry.n.02').definition())"
   ]
  },
  {
   "cell_type": "code",
   "execution_count": 23,
   "metadata": {
    "collapsed": false
   },
   "outputs": [
    {
     "name": "stdout",
     "output_type": "stream",
     "text": [
      "path similarity:0.3333333333333333\n",
      "Leacock-Chodorow similarity similarity:2.538973871058276\n"
     ]
    }
   ],
   "source": [
    "for cur in wordnet.synsets(\"rattlesnake's_master\"):\n",
    "    print('path similarity:'+str(set2.path_similarity(cur)))\n",
    "    print('Leacock-Chodorow similarity:'+str(set2.lch_similarity(cur)))"
   ]
  },
  {
   "cell_type": "code",
   "execution_count": 25,
   "metadata": {
    "collapsed": false
   },
   "outputs": [
    {
     "name": "stdout",
     "output_type": "stream",
     "text": [
      "path similarity:0.07692307692307693\n",
      "Leacock-Chodorow similarity:1.072636802264849\n",
      "path similarity:0.3333333333333333\n",
      "Leacock-Chodorow similarity:2.538973871058276\n",
      "path similarity:0.1\n",
      "Leacock-Chodorow similarity:1.3350010667323402\n",
      "path similarity:0.125\n",
      "Leacock-Chodorow similarity:1.55814461804655\n"
     ]
    }
   ],
   "source": [
    "for cur in wordnet.synsets(\"organism\"):\n",
    "    for cur2 in wordnet.synsets(\"whole\"):\n",
    "        if cur.pos() == cur2.pos():\n",
    "            print('path similarity:'+str(cur2.path_similarity(cur)))\n",
    "            print('Leacock-Chodorow similarity:'+str(cur2.lch_similarity(cur)))"
   ]
  },
  {
   "cell_type": "markdown",
   "metadata": {},
   "source": [
    "Разницы нет, мне кажется более удобной в использовании path similarity"
   ]
  },
  {
   "cell_type": "code",
   "execution_count": null,
   "metadata": {
    "collapsed": true
   },
   "outputs": [],
   "source": []
  }
 ],
 "metadata": {
  "kernelspec": {
   "display_name": "Python 3",
   "language": "python",
   "name": "python3"
  },
  "language_info": {
   "codemirror_mode": {
    "name": "ipython",
    "version": 3
   },
   "file_extension": ".py",
   "mimetype": "text/x-python",
   "name": "python",
   "nbconvert_exporter": "python",
   "pygments_lexer": "ipython3",
   "version": "3.6.0"
  }
 },
 "nbformat": 4,
 "nbformat_minor": 2
}
